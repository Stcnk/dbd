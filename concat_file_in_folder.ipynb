{
  "cells": [
    {
      "cell_type": "code",
      "execution_count": null,
      "metadata": {
        "id": "R04T2lMmH8D8"
      },
      "outputs": [],
      "source": [
        "province_code = 10"
      ]
    },
    {
      "cell_type": "code",
      "execution_count": null,
      "metadata": {
        "colab": {
          "base_uri": "https://localhost:8080/"
        },
        "id": "Iz8K4eqMMY5l",
        "outputId": "11ee46fd-0fd4-4f44-f0d1-cb101cc38ae5"
      },
      "outputs": [],
      "source": [
        "from google.colab import drive\n",
        "import os\n",
        "import re\n",
        "\n",
        "# Set the path to the directory containing the CSV files\n",
        "folder_path  = '/content/drive/MyDrive/op_dbd/concat/'  # Replace with your actual directory path\n",
        "\n",
        "# List all files in the folder\n",
        "files = os.listdir(folder_path)\n",
        "\n",
        "# Filter files based on the specified province code\n",
        "# filtered_files = [file for file in files if re.match(f\"province_{province_code}_\\d+\\.csv\", file)]\n",
        "\n",
        "# Filter files based on the specified province code\n",
        "filtered_files = [file for file in files if re.match(f\"province_code_\\d+\\.csv\", file)]\n",
        "\n",
        "# Display the filtered files\n",
        "print(\"Filtered Files:\")\n",
        "for file in filtered_files:\n",
        "    print(file)\n",
        "\n",
        "\n",
        "# Initialize an empty DataFrame to store the concatenated data\n",
        "concatenated_df = pd.DataFrame()\n",
        "\n",
        "# Iterate over the filtered files and concatenate them\n",
        "for file in filtered_files:\n",
        "    file_path = os.path.join(folder_path, file)\n",
        "    df = pd.read_csv(file_path)\n",
        "    concatenated_df = pd.concat([concatenated_df, df], ignore_index=True)\n",
        "\n",
        "# Display the concatenated DataFrame\n",
        "# print(\"Concatenated DataFrame:\")\n",
        "# print(concatenated_df)\n"
      ]
    },
    {
      "cell_type": "code",
      "execution_count": null,
      "metadata": {
        "colab": {
          "base_uri": "https://localhost:8080/",
          "height": 894
        },
        "id": "-SOkClLSM4A7",
        "outputId": "d1c46624-99f0-4546-8244-7ef9923dded7"
      },
      "outputs": [],
      "source": [
        "# concatenated_df['Province Code'] = province_code\n",
        "# concatenated_df = concatenated_df.sort_values(by='ลำดับ', ascending=True).reset_index(drop=True)\n",
        "concatenated_df = concatenated_df.sort_values(by=['Province Code', 'ลำดับ'], ascending=True).reset_index(drop=True)\n",
        "concatenated_df = concatenated_df.drop(columns=['Unnamed: 0', 'เปรียบเทียบ', 'ลำดับ'], errors='ignore')\n",
        "concatenated_df = concatenated_df.rename(columns={'เลขทะเบียนนิติบุคคล': 'id', 'ชื่อนิติบุคคล': 'legal_entity_name', 'ประเภทนิติบุคคล': 'type', 'สถานะ': 'status','รหัสประเภทธุรกิจ' : 'business_code', 'ชื่อประเภทธุรกิจ': 'business__type_name','จังหวัด': 'province','ทุนจดทะเบียน (บาท)': 'registered_capital',  'รายได้รวม (บาท)': 'income', 'กำไร (ขาดทุน) สุทธิ (บาท)':'probit',  'สินทรัพย์รวม (บาท)':'total_assets', 'ส่วนของผู้ถือหุ้น (บาท)':'shareholders_equity'})\n",
        "\n",
        "concatenated_df"
      ]
    },
    {
      "cell_type": "code",
      "execution_count": null,
      "metadata": {
        "id": "exd46qdqNGPb"
      },
      "outputs": [],
      "source": [
        "concatenated_df.to_csv(f\"/content/drive/MyDrive/op_dbd/concat/dbd_ieat_province.csv\")"
      ]
    }
  ],
  "metadata": {
    "colab": {
      "provenance": []
    },
    "kernelspec": {
      "display_name": "base",
      "language": "python",
      "name": "python3"
    },
    "language_info": {
      "codemirror_mode": {
        "name": "ipython",
        "version": 3
      },
      "file_extension": ".py",
      "mimetype": "text/x-python",
      "name": "python",
      "nbconvert_exporter": "python",
      "pygments_lexer": "ipython3",
      "version": "3.11.5"
    }
  },
  "nbformat": 4,
  "nbformat_minor": 0
}
