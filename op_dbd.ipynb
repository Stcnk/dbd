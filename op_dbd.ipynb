{
  "cells": [
    {
      "cell_type": "code",
      "execution_count": null,
      "metadata": {
        "id": "vUeXpi-SIwDX"
      },
      "outputs": [],
      "source": [
        "import requests\n",
        "import pandas as pd"
      ]
    },
    {
      "cell_type": "code",
      "execution_count": null,
      "metadata": {
        "id": "JR3Rkzp2I1Xi"
      },
      "outputs": [],
      "source": [
        "cookies ={}\n",
        "headers = {\"User-Agent\": \"Mozilla/5.0 (X11; Linux x86_64) AppleWebKit/537.36 (KHTML, like Gecko) Chrome/88.0.4324.96 Safari/537.36\"}"
      ]
    },
    {
      "cell_type": "code",
      "execution_count": null,
      "metadata": {
        "id": "FTDuXtfEgJV0"
      },
      "outputs": [],
      "source": [
        "amount = '5000'\n",
        "province_code = '21'\n",
        "page = '0'"
      ]
    },
    {
      "cell_type": "code",
      "execution_count": null,
      "metadata": {
        "colab": {
          "base_uri": "https://localhost:8080/"
        },
        "id": "2MmG9z_QI3Cm",
        "outputId": "26a6ad3e-239d-4505-cb66-2d7c5513793b"
      },
      "outputs": [],
      "source": [
        "url = 'https://datawarehouse.dbd.go.th/searchJuristicFilter'\n",
        "\n",
        "payload = {\n",
        "    '_pvCodeList': '1',\n",
        "    'pvCodeList': province_code,\n",
        "    '_statCodeList': '1',\n",
        "    '_jpTypeList': '1',\n",
        "    '_businessSizeList': '1',\n",
        "    'capAmtMin': '',\n",
        "    'capAmtMax': '',\n",
        "    'totalIncomeMin': '',\n",
        "    'totalIncomeMax': '',\n",
        "    'netProfitMin': '',\n",
        "    'netProfitMax': '',\n",
        "    'totalAssetMin': '',\n",
        "    'totalAssetMax': '',\n",
        "    'reportType': 'XLS',\n",
        "    'textSearch': '',\n",
        "    'fromPage': '/company/profile',\n",
        "    'businessSizeCodeS': '',\n",
        "    'businessSizeCodeM': '',\n",
        "    'businessSizeCodeL': '',\n",
        "    'exporterFlag': '',\n",
        "    'exporterRegFlag': '',\n",
        "    'filterType': 'block',\n",
        "    'textSearchFilter': '',\n",
        "    'jpTypeCode0': '',\n",
        "    'jpTypeCode2': '',\n",
        "    'jpTypeCode3': '',\n",
        "    'jpTypeCode5': '',\n",
        "    'jpTypeCode7': '',\n",
        "    'jpTypeCodeA': '',\n",
        "    'jpTypeCode8': '',\n",
        "    'jpTypeCode9': '',\n",
        "    'jpStatusCode1': '',\n",
        "    'jpStatusCode2': '',\n",
        "    'jpStatusCode3': '',\n",
        "    'jpStatusCode5': '',\n",
        "    'jpStatusCode6': '',\n",
        "    'jpStatusCode8': '',\n",
        "    'jpStatusCode9': '',\n",
        "    'jpStatusCodeD': '',\n",
        "    'currentPage': page,\n",
        "    'maxSize': amount,\n",
        "    'totalPage': '188996',\n",
        "    'orderBy': 'jpName',\n",
        "    'selectedType': '',\n",
        "    'fType': '',\n",
        "}\n",
        "\n",
        "print('cookies',cookies)\n",
        "response = requests.post(url, params=payload,cookies=cookies,headers=headers)\n",
        "\n",
        "\n",
        "if response.status_code == 200:\n",
        "    print(\"Request successful\")\n",
        "    cookies = response.cookies\n",
        "    print('set cookies',cookies)\n",
        "    print(response.text)\n",
        "\n",
        "    try:\n",
        "        pd.read_html(response.text)[0]\n",
        "    except:\n",
        "        print('first try')\n",
        "\n",
        "else:\n",
        "    print(f\"Request failed with status code {response.status_code}\")\n",
        "    cookies = response.cookies\n",
        "    print('set cookies',cookies)\n",
        "    print(response.text)"
      ]
    },
    {
      "cell_type": "code",
      "execution_count": null,
      "metadata": {
        "colab": {
          "base_uri": "https://localhost:8080/"
        },
        "id": "oQEtCb1mJPDF",
        "outputId": "6d251ebd-d8d2-4623-f2c3-b0cc0c3bdac6"
      },
      "outputs": [],
      "source": [
        "response.headers"
      ]
    },
    {
      "cell_type": "code",
      "execution_count": null,
      "metadata": {
        "colab": {
          "base_uri": "https://localhost:8080/",
          "height": 244
        },
        "id": "T56gLT3CJTa9",
        "outputId": "6a955188-5fdb-4973-fbbf-9dabd02774fe"
      },
      "outputs": [],
      "source": [
        "response.text"
      ]
    },
    {
      "cell_type": "code",
      "execution_count": null,
      "metadata": {
        "id": "2xq9pIy0JU6l"
      },
      "outputs": [],
      "source": [
        "df = pd.read_html(response.text)[0]"
      ]
    },
    {
      "cell_type": "code",
      "execution_count": null,
      "metadata": {
        "colab": {
          "base_uri": "https://localhost:8080/",
          "height": 1000
        },
        "id": "OocMdjavJWdH",
        "outputId": "71648a17-4564-4e25-813b-1bcb27e45dc8"
      },
      "outputs": [],
      "source": [
        "df"
      ]
    },
    {
      "cell_type": "code",
      "execution_count": null,
      "metadata": {
        "id": "ltzTP_KnLo-6"
      },
      "outputs": [],
      "source": [
        "df.to_csv(f\"/content/drive/MyDrive/op_dbd/province_{province_code}_{page}.csv\")"
      ]
    }
  ],
  "metadata": {
    "colab": {
      "provenance": []
    },
    "kernelspec": {
      "display_name": "Python 3",
      "name": "python3"
    },
    "language_info": {
      "name": "python"
    }
  },
  "nbformat": 4,
  "nbformat_minor": 0
}
