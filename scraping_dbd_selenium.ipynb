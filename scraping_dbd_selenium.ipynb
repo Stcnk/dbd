{
  "cells": [
    {
      "cell_type": "code",
      "execution_count": null,
      "metadata": {
        "id": "p4y6mxDdZYun"
      },
      "outputs": [],
      "source": [
        "from selenium import webdriver\n",
        "from selenium.webdriver.common.by import By\n",
        "from selenium.webdriver.support.wait import WebDriverWait\n",
        "from selenium.webdriver.support import expected_conditions as EC\n",
        "from selenium.webdriver.common.keys import Keys\n",
        "import sys\n",
        "from selenium.webdriver.chrome.options import Options\n",
        "import time\n",
        "import requests\n",
        "import pandas as pd"
      ]
    },
    {
      "cell_type": "code",
      "execution_count": null,
      "metadata": {
        "colab": {
          "base_uri": "https://localhost:8080/"
        },
        "id": "r8BXln3oUbPG",
        "outputId": "4d7f8d85-bc64-4a05-efb6-f041dd280e28"
      },
      "outputs": [],
      "source": [
        "pip install selenium"
      ]
    },
    {
      "cell_type": "code",
      "execution_count": null,
      "metadata": {
        "colab": {
          "base_uri": "https://localhost:8080/"
        },
        "id": "AOzjDISnULo6",
        "outputId": "41edf0c9-af52-4e04-b125-5c644e191265"
      },
      "outputs": [],
      "source": [
        "from google.colab import drive\n",
        "drive.mount('/content/drive')"
      ]
    },
    {
      "cell_type": "code",
      "execution_count": null,
      "metadata": {
        "id": "kIVm7p6VZmn-"
      },
      "outputs": [],
      "source": [
        "#---------  ADD START_PAGE AND END_PAGE------------#\n",
        "start_page = 1\n",
        "end_page = 2"
      ]
    },
    {
      "cell_type": "code",
      "execution_count": null,
      "metadata": {
        "colab": {
          "base_uri": "https://localhost:8080/",
          "height": 739
        },
        "id": "IcKeIyLYZacz",
        "outputId": "686680a9-4359-48ca-bcba-3bb88b0509d5"
      },
      "outputs": [],
      "source": [
        "\n",
        "options = webdriver.ChromeOptions()\n",
        "options.add_argument('--headless')\n",
        "options.add_argument('--no-sandbox')\n",
        "options.add_argument('--disable-dev-shm-usage')\n",
        "driver = webdriver.Chrome(options=options)\n",
        "driver.get('https://datawarehouse.dbd.go.th/index')\n",
        "\n",
        "\n",
        "time.sleep(2)\n",
        "button = driver.find_element(By.ID, \"btnWarning\").send_keys(\"\\n\")\n",
        "\n",
        "time.sleep(2)\n",
        "button = driver.find_element(By.CLASS_NAME, \"card-link\").send_keys(\"\\n\")\n",
        "\n",
        "time.sleep(2)\n",
        "WebDriverWait(driver, 20).until(EC.element_to_be_clickable((By.ID, \"searchicon\"))).click()\n",
        "\n",
        "time.sleep(2)\n",
        "search_input = driver.find_element(By.ID,\"cPage\")\n",
        "search_input.clear()\n",
        "search_input.send_keys(start_page)\n",
        "search_input.send_keys(Keys.ENTER)\n",
        "print('click')\n",
        "\n",
        "time.sleep(10)\n",
        "\n",
        "for i in range(start_page,end_page+1):\n",
        "    time.sleep(2)\n",
        "    if i== start_page:\n",
        "        table = WebDriverWait(driver, 20).until(EC.visibility_of_element_located((By.ID, \"fixTable\"))).get_attribute(\"outerHTML\") #find table content\n",
        "        df = pd.read_html(table)\n",
        "        df = df[0]\n",
        "        tr = driver.find_elements(By.CSS_SELECTOR, \"#fixTable > tbody > tr\") # find tr data-href\n",
        "        links =[link.get_attribute('data-href') for link in tr]\n",
        "        df['links']= links\n",
        "        df['page'] = i\n",
        "    else:\n",
        "        next_button  = driver.find_element(By.ID, \"next\").send_keys(\"\\n\")\n",
        "        time.sleep(10)\n",
        "        table = WebDriverWait(driver, 20).until(EC.visibility_of_element_located((By.ID, \"fixTable\"))).get_attribute(\"outerHTML\") #find table content\n",
        "        temp_df = pd.read_html(table)\n",
        "        temp_df = temp_df[0]\n",
        "        tr = driver.find_elements(By.CSS_SELECTOR, \"#fixTable > tbody > tr\") # find tr data-href\n",
        "        links =[link.get_attribute('data-href') for link in tr]\n",
        "        temp_df['links']= links\n",
        "        temp_df['page'] = i\n",
        "        df = pd.concat([df,temp_df],ignore_index=True)\n",
        "\n",
        "    df.to_csv(f\"/content/drive/MyDrive/op_dbd/page_{start_page}_to_{end_page}.csv\")\n",
        "    print(f\"done concat page{i}\")\n",
        "\n",
        "driver.close()"
      ]
    }
  ],
  "metadata": {
    "colab": {
      "provenance": []
    },
    "kernelspec": {
      "display_name": "Python 3",
      "name": "python3"
    },
    "language_info": {
      "name": "python"
    }
  },
  "nbformat": 4,
  "nbformat_minor": 0
}
